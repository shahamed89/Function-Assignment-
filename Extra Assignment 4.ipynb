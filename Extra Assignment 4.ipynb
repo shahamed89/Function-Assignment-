{
 "cells": [
  {
   "cell_type": "code",
   "execution_count": 1,
   "id": "7b699af1-c2cc-45b5-9eb8-3bbe2e802414",
   "metadata": {},
   "outputs": [],
   "source": [
    "lists=[\"Machine Learning\",\"Neural Networks\",\"Vision Robotics\",\"Speech Processing\",\"Natural Language Processing\"]"
   ]
  },
  {
   "cell_type": "code",
   "execution_count": 2,
   "id": "5be4f4a4-c365-4a45-b062-f82341ed2737",
   "metadata": {},
   "outputs": [],
   "source": [
    "def Subfields():\n",
    "    print(\"Sub-fields in AI are:\")\n",
    "    for x in lists:\n",
    "        print(x)\n",
    "    "
   ]
  },
  {
   "cell_type": "code",
   "execution_count": 3,
   "id": "fa5c1a7a-5047-45ad-b222-5123a2486f13",
   "metadata": {},
   "outputs": [
    {
     "name": "stdout",
     "output_type": "stream",
     "text": [
      "Sub-fields in AI are:\n",
      "Machine Learning\n",
      "Neural Networks\n",
      "Vision Robotics\n",
      "Speech Processing\n",
      "Natural Language Processing\n"
     ]
    }
   ],
   "source": [
    "Subfields()"
   ]
  },
  {
   "cell_type": "code",
   "execution_count": 4,
   "id": "687f11e1-bf56-43de-83fd-28f204f05dbf",
   "metadata": {},
   "outputs": [],
   "source": [
    "def OddEven():\n",
    "    oddeven=int(input(\"Enter The Number:\"))\n",
    "    if((oddeven%2==0)):\n",
    "        print(\"The given number is Even\")\n",
    "    else:\n",
    "        print(\"The given number is odd\")\n",
    "     \n"
   ]
  },
  {
   "cell_type": "code",
   "execution_count": 5,
   "id": "fd4a2d47-2d55-45fe-9dca-cd56b234f678",
   "metadata": {},
   "outputs": [
    {
     "name": "stdin",
     "output_type": "stream",
     "text": [
      "Enter The Number: 52452\n"
     ]
    },
    {
     "name": "stdout",
     "output_type": "stream",
     "text": [
      "The given number is Even\n"
     ]
    }
   ],
   "source": [
    "OddEven()"
   ]
  },
  {
   "cell_type": "code",
   "execution_count": 6,
   "id": "4dfd9939-0cf2-4643-b9d6-38a72bdeb1d8",
   "metadata": {},
   "outputs": [],
   "source": [
    "def Elegible():\n",
    "    name=input(\"Enter the Gender:\")\n",
    "    age=int(input(\"Enter the Age:\"))\n",
    "    if(age>20):\n",
    "        print(\"Your are Elegible\")\n",
    "    else:\n",
    "        print(\"NOT ELIGIBLE\")     \n",
    "    "
   ]
  },
  {
   "cell_type": "code",
   "execution_count": 7,
   "id": "4dc5da73-676d-4df8-b306-dd3ef5c664e9",
   "metadata": {},
   "outputs": [
    {
     "name": "stdin",
     "output_type": "stream",
     "text": [
      "Enter the Gender: Male\n",
      "Enter the Age: 20\n"
     ]
    },
    {
     "name": "stdout",
     "output_type": "stream",
     "text": [
      "NOT ELIGIBLE\n"
     ]
    }
   ],
   "source": [
    "Elegible()"
   ]
  },
  {
   "cell_type": "code",
   "execution_count": 30,
   "id": "579e6c07-2df4-4aed-95f3-8eafe5dd8e94",
   "metadata": {},
   "outputs": [],
   "source": [
    "def percentage():\n",
    "    Subject1= 98\n",
    "    print(\"Subject1 =\",Subject1)\n",
    "    Subject2= 87\n",
    "    print(\"Subject2 =\",Subject2)\n",
    "    Subject3= 95\n",
    "    print(\"Subject3 =\",Subject3)\n",
    "    Subject4= 95\n",
    "    print(\"Subject4 =\",Subject4)\n",
    "    Subject5= 93\n",
    "    print(\"Subject5 =\",Subject5)\n",
    "    add=Subject1+Subject2+Subject3+Subject4+Subject5\n",
    "    print(\"Total Amount:\",add)\n",
    "    per=add/5\n",
    "    print(\"Percentage:\",per)"
   ]
  },
  {
   "cell_type": "code",
   "execution_count": 31,
   "id": "5107174e-6721-4f19-bfe4-048fb6bce916",
   "metadata": {},
   "outputs": [
    {
     "name": "stdout",
     "output_type": "stream",
     "text": [
      "Subject1 = 98\n",
      "Subject2 = 87\n",
      "Subject3 = 95\n",
      "Subject4 = 95\n",
      "Subject5 = 93\n",
      "Total Amount: 468\n",
      "Percentage: 93.6\n"
     ]
    }
   ],
   "source": [
    "percentage()"
   ]
  },
  {
   "cell_type": "code",
   "execution_count": 34,
   "id": "87d2b3f7-d46e-4770-8362-cf9087383ea6",
   "metadata": {},
   "outputs": [],
   "source": [
    "def triangle():\n",
    "    Height=32\n",
    "    print(\"Height:\",Height)\n",
    "    Breadth=34\n",
    "    print(\"Breadth:\",Breadth)\n",
    "    print(\"Area formula: (Height*Breadth)/2\")\n",
    "    print(\"Area Triangle:\",(Height*Breadth)/2)\n",
    "    H1=2\n",
    "    print(\"Height1:\",H1)\n",
    "    H2=4\n",
    "    print(\"Height2:\",H2)\n",
    "    Br=4\n",
    "    print(\"Breadth:\",Br)\n",
    "    print(\"Perimeter formula: Height1+Height2+Breadth\")\n",
    "    x=H1+H2+Br\n",
    "    print(\"Perimeter of Triangle:\",x)\n",
    "    "
   ]
  },
  {
   "cell_type": "code",
   "execution_count": 35,
   "id": "73201d7c-1ced-406e-9042-01568e1cb47f",
   "metadata": {},
   "outputs": [
    {
     "name": "stdout",
     "output_type": "stream",
     "text": [
      "Height: 32\n",
      "Breadth: 34\n",
      "Area formula: (Height*Breadth)/2\n",
      "Area Triangle: 544.0\n",
      "Height1: 2\n",
      "Height2: 4\n",
      "Breadth: 4\n",
      "Perimeter formula: Height1+Height2+Breadth\n",
      "Perimeter of Triangle: 10\n"
     ]
    }
   ],
   "source": [
    "triangle()"
   ]
  },
  {
   "cell_type": "code",
   "execution_count": null,
   "id": "892c5444-f14f-4ca4-a85e-fd109fc46f7e",
   "metadata": {},
   "outputs": [],
   "source": []
  }
 ],
 "metadata": {
  "kernelspec": {
   "display_name": "Python 3 (ipykernel)",
   "language": "python",
   "name": "python3"
  },
  "language_info": {
   "codemirror_mode": {
    "name": "ipython",
    "version": 3
   },
   "file_extension": ".py",
   "mimetype": "text/x-python",
   "name": "python",
   "nbconvert_exporter": "python",
   "pygments_lexer": "ipython3",
   "version": "3.12.4"
  }
 },
 "nbformat": 4,
 "nbformat_minor": 5
}
